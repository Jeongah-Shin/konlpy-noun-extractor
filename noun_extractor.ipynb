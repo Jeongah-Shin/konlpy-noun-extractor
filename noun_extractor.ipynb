{
 "cells": [
  {
   "cell_type": "code",
   "execution_count": 1,
   "metadata": {},
   "outputs": [
    {
     "name": "stdout",
     "output_type": "stream",
     "text": [
      "Requirement already up-to-date: pip in /Users/jeongahri/anaconda3/lib/python3.6/site-packages (19.3.1)\n",
      "Requirement already up-to-date: setuptools in /Users/jeongahri/anaconda3/lib/python3.6/site-packages (45.0.0)\n",
      "Requirement already satisfied: JPype1 in /Users/jeongahri/anaconda3/lib/python3.6/site-packages (0.7.1)\n",
      "Requirement already satisfied: numpy in /Users/jeongahri/anaconda3/lib/python3.6/site-packages (1.18.1)\n",
      "Requirement already satisfied: konlpy in /Users/jeongahri/anaconda3/lib/python3.6/site-packages (0.5.2)\n",
      "Requirement already satisfied: JPype1>=0.7.0 in /Users/jeongahri/anaconda3/lib/python3.6/site-packages (from konlpy) (0.7.1)\n",
      "Requirement already satisfied: tweepy>=3.7.0 in /Users/jeongahri/anaconda3/lib/python3.6/site-packages (from konlpy) (3.8.0)\n",
      "Requirement already satisfied: numpy>=1.6 in /Users/jeongahri/anaconda3/lib/python3.6/site-packages (from konlpy) (1.18.1)\n",
      "Requirement already satisfied: colorama in /Users/jeongahri/anaconda3/lib/python3.6/site-packages (from konlpy) (0.3.9)\n",
      "Requirement already satisfied: beautifulsoup4==4.6.0 in /Users/jeongahri/anaconda3/lib/python3.6/site-packages (from konlpy) (4.6.0)\n",
      "Requirement already satisfied: lxml>=4.1.0 in /Users/jeongahri/anaconda3/lib/python3.6/site-packages (from konlpy) (4.2.1)\n",
      "Requirement already satisfied: requests-oauthlib>=0.7.0 in /Users/jeongahri/anaconda3/lib/python3.6/site-packages (from tweepy>=3.7.0->konlpy) (1.3.0)\n",
      "Requirement already satisfied: six>=1.10.0 in /Users/jeongahri/anaconda3/lib/python3.6/site-packages (from tweepy>=3.7.0->konlpy) (1.11.0)\n",
      "Requirement already satisfied: PySocks>=1.5.7 in /Users/jeongahri/anaconda3/lib/python3.6/site-packages (from tweepy>=3.7.0->konlpy) (1.6.8)\n",
      "Requirement already satisfied: requests>=2.11.1 in /Users/jeongahri/anaconda3/lib/python3.6/site-packages (from tweepy>=3.7.0->konlpy) (2.18.4)\n",
      "Requirement already satisfied: oauthlib>=3.0.0 in /Users/jeongahri/anaconda3/lib/python3.6/site-packages (from requests-oauthlib>=0.7.0->tweepy>=3.7.0->konlpy) (3.1.0)\n",
      "Requirement already satisfied: chardet<3.1.0,>=3.0.2 in /Users/jeongahri/anaconda3/lib/python3.6/site-packages (from requests>=2.11.1->tweepy>=3.7.0->konlpy) (3.0.4)\n",
      "Requirement already satisfied: idna<2.7,>=2.5 in /Users/jeongahri/anaconda3/lib/python3.6/site-packages (from requests>=2.11.1->tweepy>=3.7.0->konlpy) (2.6)\n",
      "Requirement already satisfied: urllib3<1.23,>=1.21.1 in /Users/jeongahri/anaconda3/lib/python3.6/site-packages (from requests>=2.11.1->tweepy>=3.7.0->konlpy) (1.22)\n",
      "Requirement already satisfied: certifi>=2017.4.17 in /Users/jeongahri/anaconda3/lib/python3.6/site-packages (from requests>=2.11.1->tweepy>=3.7.0->konlpy) (2018.4.16)\n"
     ]
    }
   ],
   "source": [
    "!pip3 install --upgrade pip\n",
    "!pip3 install --upgrade setuptools\n",
    "!pip3 install JPype1\n",
    "!pip3 install numpy\n",
    "!export MACOSX_DEPLOYMENT_TARGET=10.10 CFLAGS='-stdlib=libc++'\n",
    "!pip3 install konlpy"
   ]
  },
  {
   "cell_type": "code",
   "execution_count": 4,
   "metadata": {},
   "outputs": [
    {
     "name": "stdout",
     "output_type": "stream",
     "text": [
      "연구 인생 밸런스\n",
      "다이어트 다트 테니스\n",
      "다이어트\n",
      "졸업\n",
      "군대 오픈소스\n",
      "다양한 사람 교류 확대\n",
      "논문 제출\n",
      "캐글 마스터 직장\n",
      "살집\n",
      "가슴 삶 목표\n",
      "대학원 졸업\n",
      "목표 달성 끈기 투 함양\n",
      "더많 공부 배우자\n",
      "서비스\n",
      "연애\n",
      "딥러닝 책 권 공부\n",
      "딥러닝 실서비스 적용\n",
      "인사이트 사람\n",
      "확신 몰입\n",
      "이사\n",
      "친절 사람 평가\n",
      "논문\n",
      "개 프로젝트 성공 상품화\n",
      "제품 런칭\n",
      "\n",
      "전액기부 컴퓨터 비전 행사\n",
      "대로\n",
      "부동산\n",
      "방황 정신\n",
      "평생 건강 하루 5분 스쿼트\n",
      "파이썬 사용\n",
      "해외 매출 초대박\n",
      "1저자 첫 논문 학회\n",
      "유튜브 수익 1\n",
      "대만여행\n",
      "회사 내 팀 빌딩 성공 사람들 연구 개발 성장\n",
      "코딩공부 시작 맥북 구매\n",
      "캐글 마스터\n",
      "되기\n",
      "악기 연주\n",
      "결혼\n",
      "내 프로젝트 완성\n",
      "딥러닝 공부\n",
      "이직 5년차 행보\n",
      "논문\n",
      "논문\n",
      "버리기\n",
      "군 탈출\n",
      "운동\n",
      "\n",
      "논문 제출\n",
      "ART_Lab 성장 들 모시기\n",
      "기록 공유\n",
      "글로벌 진출\n",
      "박사 졸업\n",
      "가슴 일\n",
      "것 돈 수 완벽 방법 실행\n",
      "\n",
      "김경선 기술력 도움 보답\n",
      "기술 관련 비전공자들 아트랩 만큼 성장\n"
     ]
    }
   ],
   "source": [
    "from konlpy.tag import Hannanum\n",
    "\n",
    "hannanum = Hannanum()\n",
    "with open (\"data.txt\", \"r\") as myfile:\n",
    "    lines=myfile.readlines()\n",
    "    for line in lines:\n",
    "        nouns = ' '.join(hannanum.nouns(line))\n",
    "        print(nouns)"
   ]
  }
 ],
 "metadata": {
  "kernelspec": {
   "display_name": "Python 3",
   "language": "python",
   "name": "python3"
  },
  "language_info": {
   "codemirror_mode": {
    "name": "ipython",
    "version": 3
   },
   "file_extension": ".py",
   "mimetype": "text/x-python",
   "name": "python",
   "nbconvert_exporter": "python",
   "pygments_lexer": "ipython3",
   "version": "3.6.5"
  }
 },
 "nbformat": 4,
 "nbformat_minor": 2
}
