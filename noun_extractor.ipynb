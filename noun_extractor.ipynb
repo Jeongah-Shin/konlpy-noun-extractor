{
 "cells": [
  {
   "cell_type": "code",
   "execution_count": 1,
   "metadata": {},
   "outputs": [
    {
     "name": "stdout",
     "output_type": "stream",
     "text": [
      "Requirement already up-to-date: pip in /Users/jeongahri/anaconda3/lib/python3.6/site-packages (19.3.1)\n",
      "Requirement already up-to-date: setuptools in /Users/jeongahri/anaconda3/lib/python3.6/site-packages (45.0.0)\n",
      "Requirement already satisfied: JPype1 in /Users/jeongahri/anaconda3/lib/python3.6/site-packages (0.7.1)\n",
      "Requirement already satisfied: numpy in /Users/jeongahri/anaconda3/lib/python3.6/site-packages (1.18.1)\n",
      "Requirement already satisfied: konlpy in /Users/jeongahri/anaconda3/lib/python3.6/site-packages (0.5.2)\n",
      "Requirement already satisfied: JPype1>=0.7.0 in /Users/jeongahri/anaconda3/lib/python3.6/site-packages (from konlpy) (0.7.1)\n",
      "Requirement already satisfied: tweepy>=3.7.0 in /Users/jeongahri/anaconda3/lib/python3.6/site-packages (from konlpy) (3.8.0)\n",
      "Requirement already satisfied: numpy>=1.6 in /Users/jeongahri/anaconda3/lib/python3.6/site-packages (from konlpy) (1.18.1)\n",
      "Requirement already satisfied: colorama in /Users/jeongahri/anaconda3/lib/python3.6/site-packages (from konlpy) (0.3.9)\n",
      "Requirement already satisfied: beautifulsoup4==4.6.0 in /Users/jeongahri/anaconda3/lib/python3.6/site-packages (from konlpy) (4.6.0)\n",
      "Requirement already satisfied: lxml>=4.1.0 in /Users/jeongahri/anaconda3/lib/python3.6/site-packages (from konlpy) (4.2.1)\n",
      "Requirement already satisfied: requests-oauthlib>=0.7.0 in /Users/jeongahri/anaconda3/lib/python3.6/site-packages (from tweepy>=3.7.0->konlpy) (1.3.0)\n",
      "Requirement already satisfied: six>=1.10.0 in /Users/jeongahri/anaconda3/lib/python3.6/site-packages (from tweepy>=3.7.0->konlpy) (1.11.0)\n",
      "Requirement already satisfied: PySocks>=1.5.7 in /Users/jeongahri/anaconda3/lib/python3.6/site-packages (from tweepy>=3.7.0->konlpy) (1.6.8)\n",
      "Requirement already satisfied: requests>=2.11.1 in /Users/jeongahri/anaconda3/lib/python3.6/site-packages (from tweepy>=3.7.0->konlpy) (2.18.4)\n",
      "Requirement already satisfied: oauthlib>=3.0.0 in /Users/jeongahri/anaconda3/lib/python3.6/site-packages (from requests-oauthlib>=0.7.0->tweepy>=3.7.0->konlpy) (3.1.0)\n",
      "Requirement already satisfied: chardet<3.1.0,>=3.0.2 in /Users/jeongahri/anaconda3/lib/python3.6/site-packages (from requests>=2.11.1->tweepy>=3.7.0->konlpy) (3.0.4)\n",
      "Requirement already satisfied: idna<2.7,>=2.5 in /Users/jeongahri/anaconda3/lib/python3.6/site-packages (from requests>=2.11.1->tweepy>=3.7.0->konlpy) (2.6)\n",
      "Requirement already satisfied: urllib3<1.23,>=1.21.1 in /Users/jeongahri/anaconda3/lib/python3.6/site-packages (from requests>=2.11.1->tweepy>=3.7.0->konlpy) (1.22)\n",
      "Requirement already satisfied: certifi>=2017.4.17 in /Users/jeongahri/anaconda3/lib/python3.6/site-packages (from requests>=2.11.1->tweepy>=3.7.0->konlpy) (2018.4.16)\n"
     ]
    }
   ],
   "source": [
    "!pip3 install --upgrade pip\n",
    "!pip3 install --upgrade setuptools\n",
    "!pip3 install JPype1\n",
    "!pip3 install numpy\n",
    "!export MACOSX_DEPLOYMENT_TARGET=10.10 CFLAGS='-stdlib=libc++'\n",
    "!pip3 install konlpy"
   ]
  },
  {
   "cell_type": "code",
   "execution_count": 2,
   "metadata": {},
   "outputs": [
    {
     "name": "stdout",
     "output_type": "stream",
     "text": [
      "식사 수 배 잠 저녁 붕붕드링크 속 자극적 액체 한가득 위장 수 각성 상태 만들어놔 뇌세포 에너지 글자 좀비 경우 마린 스팀팩 체력 적 앞 으아아아 돌격 꼴 식사 야근 대비 사람 기초 대사량 1500칼로리 정도 뇌 에너지 소비량 1 5 삽질 공부 그 등가교환\n",
      "\n",
      "뇌 활동 포도당 필수적 비타민 피 해소 효과 일단 것 먹는다는게 영양 섭취 뇌 스트레스 데 혈당 활력 수용성 비타민 경우 신장 고농도 비타민 단시간 섭취 것 각성 지 신장 무리 수 비타민 사발 퍼먹지 이상 비타민 위 무리 수 것 비타민 안정적 유지 첨가 것들 구연산 자체 때문 인체 무해 위궤양 등 경우 섭취\n",
      "\n",
      "드링크 상용품 여러개 각성성분 영양소 섭취 이 간 신장 무리 문제 각성제역할 카페인 과다섭취 해당문서 확인 수 다양 부위 부작용\n",
      "\n",
      "제조 붕붕드링크 박카스 + 레모나 경우 소량 발암물질 벤젠 박카스 안 보존료 안식향산나트륨(=sodium 산성 환경[2] 소량(최대 0. , 기준치 0. )이나마 벤젠 생성 때문 박카스 해당 물질 걸\n",
      "\n",
      "잠항목에서 확인 수 잠 안잘수 각성성분화 영양소 강제 섭취 피 쌓인피로 몸 무리 일 효율 감소 적당 수면 효율 상승 부작용 적다는점 기억\n",
      "수 당신 두뇌 동작 클럭 100 회복 붕붕드링크 연장 각성시간 100 클럭 95 90 80 65%식 대 시간동안 잠안자 공부 지식(데이터베이스) 시험 힘 것 붕붕드링크먹고 며칠 당신 분명 시험장 100 능력 발휘 만족 잔 당신 두뇌 분명 최고 IQ130 IQ100, IQ100 IQ80 페널티 상태 최고 것 즉, 내용 재치 활용 능력 망\n",
      "\n",
      "지속적 수면부족 붕붕드링크 각성제 진정제 습관적 사용 밤 새 육체건강 정신건강 각성효과시 뇌 도파민 과다분비 거기 뇌 도파민 요구 각성효과 내성 그 반대급부 우울증 기타 정신질환 수 자체 고혈압 당뇨병 심장질환 대표적 주요 위험요인\n"
     ]
    }
   ],
   "source": [
    "from konlpy.tag import Hannanum\n",
    "\n",
    "hannanum = Hannanum()\n",
    "with open (\"data.txt\", \"r\") as myfile:\n",
    "    lines=myfile.readlines()\n",
    "    for line in lines:\n",
    "        nouns = ' '.join(hannanum.nouns(line))\n",
    "        print(nouns)"
   ]
  }
 ],
 "metadata": {
  "kernelspec": {
   "display_name": "Python 3",
   "language": "python",
   "name": "python3"
  },
  "language_info": {
   "codemirror_mode": {
    "name": "ipython",
    "version": 3
   },
   "file_extension": ".py",
   "mimetype": "text/x-python",
   "name": "python",
   "nbconvert_exporter": "python",
   "pygments_lexer": "ipython3",
   "version": "3.6.5"
  }
 },
 "nbformat": 4,
 "nbformat_minor": 2
}
